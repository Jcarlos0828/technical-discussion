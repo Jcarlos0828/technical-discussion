{
  "nbformat": 4,
  "nbformat_minor": 0,
  "metadata": {
    "colab": {
      "provenance": [],
      "authorship_tag": "ABX9TyP3EsTnBSJrwG6gBgx8BF0y",
      "include_colab_link": true
    },
    "kernelspec": {
      "name": "python3",
      "display_name": "Python 3"
    },
    "language_info": {
      "name": "python"
    }
  },
  "cells": [
    {
      "cell_type": "markdown",
      "metadata": {
        "id": "view-in-github",
        "colab_type": "text"
      },
      "source": [
        "<a href=\"https://colab.research.google.com/github/Jcarlos0828/technical-discussion/blob/main/Building_Cloud_Computing_Solutions_at_Scale.ipynb\" target=\"_parent\"><img src=\"https://colab.research.google.com/assets/colab-badge.svg\" alt=\"Open In Colab\"/></a>"
      ]
    },
    {
      "cell_type": "markdown",
      "source": [
        "### Last Edition: October 10th, 2023\n",
        "\n",
        "# Repeatable technical documentation Lab"
      ],
      "metadata": {
        "id": "bDntyzBOJ6uc"
      }
    },
    {
      "cell_type": "code",
      "execution_count": null,
      "metadata": {
        "id": "RWjF_sInJsLx"
      },
      "outputs": [],
      "source": [
        "print(\"hello world\")"
      ]
    },
    {
      "cell_type": "markdown",
      "source": [
        "# This statement kicks off my learning journey with **cloud** architecture"
      ],
      "metadata": {
        "id": "ZNQH66vhKX0h"
      }
    },
    {
      "cell_type": "code",
      "source": [],
      "metadata": {
        "id": "hUn461gvJ5zI"
      },
      "execution_count": null,
      "outputs": []
    }
  ]
}